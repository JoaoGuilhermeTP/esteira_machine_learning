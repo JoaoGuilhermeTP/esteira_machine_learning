{
 "cells": [
  {
   "cell_type": "markdown",
   "id": "1b6ad76a",
   "metadata": {},
   "source": [
    "# Esteira de Aprendizado de Máquina\n",
    "\n",
    "Este notebook implementa uma esteira completa de aprendizado de máquina, desde a obtenção dos dados até a avaliação e predição com um modelo treinado. O conjunto de dados utilizado será o famoso **Iris Dataset** do UCI Machine Learning Repository."
   ]
  },
  {
   "cell_type": "code",
   "execution_count": 2,
   "id": "3f82c84e",
   "metadata": {},
   "outputs": [
    {
     "ename": "ModuleNotFoundError",
     "evalue": "No module named 'matplotlib'",
     "output_type": "error",
     "traceback": [
      "\u001b[31m---------------------------------------------------------------------------\u001b[39m",
      "\u001b[31mModuleNotFoundError\u001b[39m                       Traceback (most recent call last)",
      "\u001b[36mCell\u001b[39m\u001b[36m \u001b[39m\u001b[32mIn[2]\u001b[39m\u001b[32m, line 4\u001b[39m\n\u001b[32m      2\u001b[39m \u001b[38;5;28;01mimport\u001b[39;00m\u001b[38;5;250m \u001b[39m\u001b[34;01mpandas\u001b[39;00m\u001b[38;5;250m \u001b[39m\u001b[38;5;28;01mas\u001b[39;00m\u001b[38;5;250m \u001b[39m\u001b[34;01mpd\u001b[39;00m\n\u001b[32m      3\u001b[39m \u001b[38;5;28;01mimport\u001b[39;00m\u001b[38;5;250m \u001b[39m\u001b[34;01mnumpy\u001b[39;00m\u001b[38;5;250m \u001b[39m\u001b[38;5;28;01mas\u001b[39;00m\u001b[38;5;250m \u001b[39m\u001b[34;01mnp\u001b[39;00m\n\u001b[32m----> \u001b[39m\u001b[32m4\u001b[39m \u001b[38;5;28;01mimport\u001b[39;00m\u001b[38;5;250m \u001b[39m\u001b[34;01mmatplotlib\u001b[39;00m\u001b[34;01m.\u001b[39;00m\u001b[34;01mpyplot\u001b[39;00m\u001b[38;5;250m \u001b[39m\u001b[38;5;28;01mas\u001b[39;00m\u001b[38;5;250m \u001b[39m\u001b[34;01mplt\u001b[39;00m\n\u001b[32m      5\u001b[39m \u001b[38;5;28;01mimport\u001b[39;00m\u001b[38;5;250m \u001b[39m\u001b[34;01mseaborn\u001b[39;00m\u001b[38;5;250m \u001b[39m\u001b[38;5;28;01mas\u001b[39;00m\u001b[38;5;250m \u001b[39m\u001b[34;01msns\u001b[39;00m\n\u001b[32m      6\u001b[39m \u001b[38;5;28;01mfrom\u001b[39;00m\u001b[38;5;250m \u001b[39m\u001b[34;01msklearn\u001b[39;00m\u001b[34;01m.\u001b[39;00m\u001b[34;01mmodel_selection\u001b[39;00m\u001b[38;5;250m \u001b[39m\u001b[38;5;28;01mimport\u001b[39;00m train_test_split\n",
      "\u001b[31mModuleNotFoundError\u001b[39m: No module named 'matplotlib'"
     ]
    }
   ],
   "source": [
    "# Importação das bibliotecas necessárias\n",
    "import pandas as pd\n",
    "import numpy as np\n",
    "import matplotlib.pyplot as plt\n",
    "import seaborn as sns\n",
    "from sklearn.model_selection import train_test_split\n",
    "from sklearn.preprocessing import StandardScaler\n",
    "from sklearn.ensemble import RandomForestClassifier\n",
    "from sklearn.metrics import confusion_matrix, accuracy_score, ConfusionMatrixDisplay"
   ]
  },
  {
   "cell_type": "code",
   "execution_count": null,
   "id": "574ca911",
   "metadata": {},
   "outputs": [],
   "source": [
    "# Carregar o dataset Iris do UCI\n",
    "url = 'https://archive.ics.uci.edu/ml/machine-learning-databases/iris/iris.data'\n",
    "columns = ['sepal_length', 'sepal_width', 'petal_length', 'petal_width', 'class']\n",
    "df = pd.read_csv(url, names=columns)\n",
    "df.head()"
   ]
  },
  {
   "cell_type": "code",
   "execution_count": null,
   "id": "702c1b9b",
   "metadata": {},
   "outputs": [],
   "source": [
    "# Estatísticas descritivas gerais\n",
    "df.describe()"
   ]
  },
  {
   "cell_type": "code",
   "execution_count": null,
   "id": "73767fe0",
   "metadata": {},
   "outputs": [],
   "source": [
    "# Visualizar a distribuição das classes\n",
    "df['class'].value_counts().plot(kind='bar', title='Distribuição das classes')\n",
    "plt.xlabel('Classe')\n",
    "plt.ylabel('Quantidade')\n",
    "plt.show()"
   ]
  },
  {
   "cell_type": "code",
   "execution_count": null,
   "id": "0ef1347e",
   "metadata": {},
   "outputs": [],
   "source": [
    "# Normalização das features numéricas\n",
    "scaler = StandardScaler()\n",
    "features = ['sepal_length', 'sepal_width', 'petal_length', 'petal_width']\n",
    "df[features] = scaler.fit_transform(df[features])\n",
    "df.head()"
   ]
  },
  {
   "cell_type": "code",
   "execution_count": null,
   "id": "9bb5bf6f",
   "metadata": {},
   "outputs": [],
   "source": [
    "# Remover outliers (z-score > 3)\n",
    "from scipy.stats import zscore\n",
    "z_scores = np.abs(zscore(df[features]))\n",
    "df = df[(z_scores < 3).all(axis=1)]\n",
    "df.reset_index(drop=True, inplace=True)\n",
    "df.shape"
   ]
  },
  {
   "cell_type": "code",
   "execution_count": null,
   "id": "5a35fd53",
   "metadata": {},
   "outputs": [],
   "source": [
    "# Divisão em treino, validação e teste\n",
    "X = df[features]\n",
    "y = df['class']\n",
    "\n",
    "# Primeiro, separa treino (60%) e temp (40%)\n",
    "X_train, X_temp, y_train, y_temp = train_test_split(X, y, test_size=0.4, random_state=42, stratify=y)\n",
    "# Depois, separa temp em validação (20%) e teste (20%)\n",
    "X_val, X_test, y_val, y_test = train_test_split(X_temp, y_temp, test_size=0.5, random_state=42, stratify=y_temp)\n",
    "\n",
    "print(f'Treino: {X_train.shape}, Validação: {X_val.shape}, Teste: {X_test.shape})'"
   ]
  },
  {
   "cell_type": "code",
   "execution_count": null,
   "id": "74a74f33",
   "metadata": {},
   "outputs": [],
   "source": [
    "# Treinamento do modelo\n",
    "clf = RandomForestClassifier(random_state=42)\n",
    "clf.fit(X_train, y_train)\n",
    "\n",
    "# Avaliação na validação\n",
    "y_val_pred = clf.predict(X_val)\n",
    "acc_val = accuracy_score(y_val, y_val_pred)\n",
    "print(f'Acurácia na validação: {acc_val:.2f}')"
   ]
  },
  {
   "cell_type": "code",
   "execution_count": null,
   "id": "7225fe22",
   "metadata": {},
   "outputs": [],
   "source": [
    "# Avaliação no conjunto de teste\n",
    "y_test_pred = clf.predict(X_test)\n",
    "acc_test = accuracy_score(y_test, y_test_pred)\n",
    "print(f'Acurácia no teste: {acc_test:.2f}')\n",
    "\n",
    "cm = confusion_matrix(y_test, y_test_pred, labels=clf.classes_)\n",
    "disp = ConfusionMatrixDisplay(confusion_matrix=cm, display_labels=clf.classes_)\n",
    "disp.plot(cmap=plt.cm.Blues)\n",
    "plt.title('Matriz de Confusão - Teste')\n",
    "plt.show()"
   ]
  },
  {
   "cell_type": "code",
   "execution_count": null,
   "id": "6c68de10",
   "metadata": {},
   "outputs": [],
   "source": [
    "# Predição com o modelo treinado\n",
    "sample = X_test.iloc[[0]]\n",
    "pred = clf.predict(sample)\n",
    "print(f'Classe real: {y_test.iloc[0]}')\n",
    "print(f'Classe predita: {pred[0]}')"
   ]
  },
  {
   "cell_type": "markdown",
   "id": "97eb232c",
   "metadata": {},
   "source": [
    "## Conclusão\n",
    "\n",
    "Este notebook demonstrou uma esteira completa de aprendizado de máquina, incluindo obtenção, análise, transformação, divisão, treinamento, avaliação e predição usando o dataset Iris."
   ]
  }
 ],
 "metadata": {
  "kernelspec": {
   "display_name": "Python 3",
   "language": "python",
   "name": "python3"
  },
  "language_info": {
   "codemirror_mode": {
    "name": "ipython",
    "version": 3
   },
   "file_extension": ".py",
   "mimetype": "text/x-python",
   "name": "python",
   "nbconvert_exporter": "python",
   "pygments_lexer": "ipython3",
   "version": "3.12.4"
  }
 },
 "nbformat": 4,
 "nbformat_minor": 5
}
